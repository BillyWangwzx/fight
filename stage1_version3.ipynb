{
 "cells": [
  {
   "cell_type": "code",
   "execution_count": 1,
   "metadata": {
    "collapsed": true
   },
   "outputs": [],
   "source": [
    "import random\n",
    "import numpy as np\n",
    "from copy import deepcopy\n",
    "import pickle"
   ]
  },
  {
   "cell_type": "code",
   "execution_count": 2,
   "metadata": {
    "collapsed": true
   },
   "outputs": [],
   "source": [
    "ALLOW_THREE_ONE = True\n",
    "ALLOW_THREE_TWO = True"
   ]
  },
  {
   "cell_type": "code",
   "execution_count": 3,
   "metadata": {},
   "outputs": [],
   "source": [
    "def print_card(cards):\n",
    "    print_cards = []\n",
    "    dic = {0:'3',1:'4',2:'5',3:'6',4:'7',5:'8',6:'9',7:'10',8:'J',9:'Q',10:'K',11:'A',12:'2',13:'小王',14:'大王'}\n",
    "    for i in cards:\n",
    "        print_cards.append(dic[i])\n",
    "    print(print_cards)\n",
    "    \n",
    "class game:\n",
    "    def __init__(self):\n",
    "        self.card = list(range(13))+list(range(13))+list(range(13))+list(range(13))+[13,14]\n",
    "        # 发牌,无地主\n",
    "        random.shuffle(self.card)\n",
    "        ''' \n",
    "        self.bonus_card = self.card_2[:3]\n",
    "        self.card_2 = self.card_2[3:]\n",
    "        ''' \n",
    "        #每人18张牌，card_2为每个牌的编号\n",
    "        #定义游戏中三个玩家\n",
    "        self.players = [player(i, self, self.card[18*i:(18*i+18)]) for i in range(3)]\n",
    "        #card_show为记录玩家出过的牌\n",
    "        #last_card为记录本局游戏最后出现的牌（后面牌要按前面牌的规则出牌，如果另外两名玩家都选择不出，则可以任意出牌）\n",
    "        self.card_show = []\n",
    "        self.last_card = []\n",
    "        #end=1代表游戏进行中，end=0代表游戏结束\n",
    "        self.end = 1\n",
    "        #记录游戏回合数，round%3即为当前玩家编号\n",
    "        self.round = 0\n",
    "        self.card_num = [18,18,18]\n",
    "\n",
    "    def play(self):\n",
    "        #显示出牌\n",
    "        i = self.round % 3\n",
    "        while self.end:\n",
    "            handout_card = self.players[i].move()\n",
    "            print(i, handout_card)\n",
    "            if handout_card == 'winner':\n",
    "                print('player ' + str(i) + ' win')\n",
    "                self.end = 0\n",
    "                break\n",
    "            else:\n",
    "                if handout_card != []:\n",
    "                    self.last_card = handout_card\n",
    "                    self.card_num[i] -= len(handout_card)\n",
    "                    self.card_show += handout_card\n",
    "            self.round += 1\n",
    "            i = (i + 1) % 3\n",
    "\n",
    "    def simulate_play(self):\n",
    "        #不显示出牌,返回胜利玩家\n",
    "        i = self.round % 3\n",
    "        while self.end:\n",
    "            handout_card = self.players[i].move()\n",
    "            if handout_card == 'winner':\n",
    "                return i\n",
    "            else:\n",
    "                if handout_card != []:\n",
    "                    self.last_card = handout_card\n",
    "                    self.card_num[i] -= len(handout_card)\n",
    "                    self.card_show += handout_card\n",
    "            self.round += 1\n",
    "            i = (i + 1) % 3\n",
    "\n",
    "    def play_one_round(self, move=None, verbose=0):\n",
    "        #游戏只进行一轮，\n",
    "        if verbose == 1:\n",
    "            print_card(sorted(self.players[self.round%3].cards))\n",
    "        handout_card = self.players[self.round % 3].move(move)\n",
    "        \n",
    "        if handout_card == 'winner':\n",
    "            self.end = 0\n",
    "        else:\n",
    "            if handout_card != []:\n",
    "                self.last_card = handout_card\n",
    "                self.card_num[self.round%3] -= len(handout_card)\n",
    "                self.card_show += handout_card\n",
    "            if verbose == 1:\n",
    "                print_card(sorted(handout_card))\n",
    "        self.round += 1"
   ]
  },
  {
   "cell_type": "code",
   "execution_count": 4,
   "metadata": {
    "collapsed": true
   },
   "outputs": [],
   "source": [
    "def all_legal_move(cards):\n",
    "    combs = []\n",
    "    dic = {}\n",
    "    for card in cards:\n",
    "        dic[card] = dic.get(card,0)+1\n",
    "    for card in dic:\n",
    "        if dic[card] >= 1:\n",
    "            combs.append([card])\n",
    "        if dic[card] >= 2:\n",
    "            combs.append([card]*2)\n",
    "        if dic[card] >= 3:\n",
    "            combs.append([card]*3)\n",
    "            if ALLOW_THREE_TWO:\n",
    "                for another_card in dic:\n",
    "                    if dic[another_card] >= 2 and another_card != 13 and another_card != 14 and another_card != card:\n",
    "                        combs.append([card]*3+[another_card]*2)\n",
    "            if ALLOW_THREE_ONE:\n",
    "                for another_card in dic:\n",
    "                    if dic[another_card] >= 1 and another_card != 13 and another_card != 14 and another_card != card:\n",
    "                        combs.append([card]*3+[another_card])\n",
    "        if dic[card] >= 4:\n",
    "            combs.append([card]*4)\n",
    "    if 13 in cards and 14 in cards:\n",
    "        combs.append([13,14])\n",
    "    combs.extend(detect_con(cards))\n",
    "    return combs\n",
    "\n",
    "def detect_con(cards, length=False, minimum=-1):\n",
    "    #顺,最短5最长12，3~A\n",
    "    combs = []\n",
    "    distinct_cards = sorted(list(set(cards)))\n",
    "    cs = 0\n",
    "    last = distinct_cards[0]-1\n",
    "    for i in distinct_cards:\n",
    "        if i > minimum and i < 12:\n",
    "            if i-last == 1 :\n",
    "                cs += 1\n",
    "            else:\n",
    "                cs = 1\n",
    "            if cs >= 5:\n",
    "                if not length:\n",
    "                    combs.extend([list(range(i+1-j,i+1)) for j in range(5,cs+1)])\n",
    "                elif cs >= length:\n",
    "                    combs.append(list(range(i+1-length,i+1)))\n",
    "            last = i\n",
    "    return combs\n",
    "\n",
    "def detect_bomb(cards, minimum = -1):\n",
    "    combs = []\n",
    "    dic = {}\n",
    "    for card in cards:\n",
    "        dic[card] = dic.get(card,0)+1\n",
    "    for card in dic:\n",
    "        if dic[card]==4 and card > minimum:\n",
    "            combs.append([card]*4)\n",
    "    if 13 in cards and 14 in cards:\n",
    "        combs.append([13,14])\n",
    "    return combs\n",
    "\n",
    "def detect_triple(cards, minimum = -1,dai=0):\n",
    "    combs = []\n",
    "    dic = {}\n",
    "    for card in cards:\n",
    "        dic[card] = dic.get(card,0)+1\n",
    "    for card in dic:\n",
    "        if dic[card]>=3 and card > minimum:\n",
    "            if dai ==0:\n",
    "                combs.append([card]*3)\n",
    "            elif dai == 1:\n",
    "                for another_card in dic:\n",
    "                    if dic[another_card] >= 1 and another_card != 13 and another_card != 14 and another_card != card:\n",
    "                        combs.append([card]*3+[another_card])\n",
    "            else:\n",
    "                for another_card in dic:\n",
    "                    if dic[another_card] >= 2 and another_card != 13 and another_card != 14 and another_card != card:\n",
    "                        combs.append([card]*3+[another_card]*2)    \n",
    "    return combs\n",
    "\n",
    "def detect_double(cards, minimum = -1):\n",
    "    combs = []\n",
    "    dic = {}\n",
    "    for card in cards:\n",
    "        dic[card] = dic.get(card,0)+1\n",
    "    for card in dic:\n",
    "        if dic[card] >=2 and card > minimum:\n",
    "            combs.append([card]*2)\n",
    "    return combs\n",
    "            \n",
    "        \n",
    "\n",
    "def legal_move_after(last_card, cards):\n",
    "    combs = [[]]\n",
    "    dic = {}\n",
    "    for i in last_card:\n",
    "        dic[i] = dic.get(i, 0) + 1\n",
    "    if len(dic)==2:\n",
    "        for i in dic:\n",
    "            if dic[i]==3:\n",
    "                minimum = i\n",
    "                break\n",
    "    else:\n",
    "        minimum = min(last_card)\n",
    "    if 13 in last_card and 14 in last_card:\n",
    "        return combs\n",
    "    else:\n",
    "        if len(last_card) == 4 and len(dic) == 1:\n",
    "            combs.extend(detect_bomb(cards, minimum))\n",
    "        else:\n",
    "            combs.extend(detect_bomb(cards))\n",
    "            if max(dic.values()) == 3:\n",
    "                combs.extend(detect_triple(cards, minimum, len(last_card) - 3))\n",
    "            elif len(last_card) == 2:\n",
    "                combs.extend(detect_double(cards, minimum))\n",
    "            elif len(last_card) == 1:\n",
    "                combs.extend([[i] for i in set(cards) if i > minimum])\n",
    "            else:\n",
    "                combs.extend(detect_con(cards, len(last_card), minimum))\n",
    "        return combs\n",
    "\n",
    "        "
   ]
  },
  {
   "cell_type": "code",
   "execution_count": 5,
   "metadata": {},
   "outputs": [],
   "source": [
    "def random_play(a):\n",
    "    random.shuffle(a)\n",
    "    return a[0]\n",
    "\n",
    "\n",
    "def value_net(legal_list, card_in_hand, card_shown, others_cards_num,simulatenum = 5000):\n",
    "    values = np.zeros((len(legal_list),1))\n",
    "    if len(legal_list)==1:\n",
    "        return legal_list[0]\n",
    "    def others_card(card_in_hand,card_shown):\n",
    "        a = list(range(13))+list(range(13))+list(range(13))+list(range(13))+[13,14]\n",
    "        for i in card_in_hand:\n",
    "            a.remove(i)\n",
    "        for i in card_shown:\n",
    "            a.remove(i)\n",
    "        return a\n",
    "    hidden_card = others_card(card_in_hand,card_shown)\n",
    "    for i in range(5000):\n",
    "        random.shuffle(hidden_card)\n",
    "        x = [[card_transform(card_in_hand),card_transform(hidden_card[:others_cards_num]),card_transform(hidden_card[others_cards_num:]),\\\n",
    "              card_transform(card_shown),card_transform(i)] for i in legal_list]\n",
    "        values += model.predict(x)\n",
    "    return legal_list[np.argmax(values)]\n",
    "        \n",
    "\n",
    "class player:\n",
    "    def __init__(self,i, game, cards, brain = value_net):\n",
    "        self.index = i\n",
    "        self.game = game\n",
    "        self.cards = cards\n",
    "        self.brain = brain\n",
    "        self.player_last_card = []\n",
    "    ''' \n",
    "    def jiaodizhu_random(self):\n",
    "        return(np.random.rand(1))\n",
    "    '''\n",
    "    \n",
    "    def get_legal_move(self):\n",
    "        if self.game.last_card == self.player_last_card:\n",
    "            legal_list = all_legal_move(self.cards)\n",
    "        else:\n",
    "            legal_list = legal_move_after(self.game.last_card, self.cards)\n",
    "        return legal_list\n",
    "        \n",
    "\n",
    "    def move(self, move_card=None):\n",
    "        legal_list = self.get_legal_move()\n",
    "        # 随机出牌\n",
    "        if move_card is None:\n",
    "            handout = self.brain(legal_list,self.cards,self.game.card_show,self.game.card_num[(self.index+1)%3])\n",
    "        elif move_card not in legal_list:\n",
    "            print('INLEGAL MOVE')\n",
    "            raise Exception('INLEGAL MOVE')\n",
    "        else:\n",
    "            handout = move_card\n",
    "        for card in handout:\n",
    "            self.cards.remove(card)\n",
    "        self.player_last_card = handout\n",
    "        if len(self.cards) == 0:\n",
    "            return 'winner'\n",
    "        else:\n",
    "            return handout"
   ]
  },
  {
   "cell_type": "code",
   "execution_count": 6,
   "metadata": {
    "collapsed": true
   },
   "outputs": [],
   "source": [
    "def card_transform(card):\n",
    "    a = np.zeros(15)\n",
    "    for i in card:\n",
    "        a[i]+=1\n",
    "    return a"
   ]
  },
  {
   "cell_type": "code",
   "execution_count": 7,
   "metadata": {
    "collapsed": true
   },
   "outputs": [],
   "source": [
    "class mc_state:\n",
    "    def __init__(self, game):\n",
    "        self.current_game = deepcopy(game)\n",
    "        self.move = []\n",
    "        self.round = self.current_game.round\n",
    "        self.player = self.round % 3\n",
    "        self.prob_win = 0\n",
    "\n",
    "    def __call__(self, move, iter_num=1000):\n",
    "        self.move = move\n",
    "        simulation_game_root = deepcopy(self.current_game)\n",
    "        simulation_game_root.play_one_round(move)\n",
    "        if simulation_game_root.end == 0:\n",
    "            self.prob_win =  1\n",
    "        else:\n",
    "            win_time = 0\n",
    "            for i in range(iter_num):\n",
    "                simulation_game = deepcopy(simulation_game_root)\n",
    "                if simulation_game.simulate_play() == self.player:\n",
    "                    win_time += 1\n",
    "            self.prob_win = win_time / float(iter_num)"
   ]
  },
  {
   "cell_type": "code",
   "execution_count": 8,
   "metadata": {
    "collapsed": true
   },
   "outputs": [],
   "source": [
    "class data_saver:\n",
    "    def __init__(self, path, batch_size=10000):\n",
    "        self.num = 1\n",
    "        self.batch_size = batch_size\n",
    "        self.batch = 0\n",
    "        self.path = path\n",
    "        self.x_train = []\n",
    "        self.y_train = []\n",
    "\n",
    "    def __call__(self, state):\n",
    "        x = [card_transform(state.current_game.players[(state.round + j) % 3].cards) for j in range(3)]\n",
    "        x.append(card_transform(state.current_game.card_show))\n",
    "        x.append(card_transform(state.move))\n",
    "        self.x_train.append(x)\n",
    "        self.y_train.append(state.prob_win)\n",
    "        if self.num % self.batch_size == 0:\n",
    "            pickle.dump(self.x_train, open(path + 'x_%d.pkl' % self.batch, \"wb\"))\n",
    "            pickle.dump(self.y_train, open(path + 'y_%d.pkl' % self.batch, \"wb\"))\n",
    "            self.x_train = []\n",
    "            self.y_train = []\n",
    "            self.batch += 1\n",
    "        print('record %d scores' % self.num)\n",
    "        self.num += 1\n",
    "\n",
    "    def save(self):\n",
    "        pickle.dump(self.x_train, open(path + 'x_%d.pkl' % self.batch, \"wb\"))\n",
    "        pickle.dump(self.y_train, open(path + 'y_%d.pkl' % self.batch, \"wb\"))\n",
    "        self.batch += 1\n"
   ]
  },
  {
   "cell_type": "code",
   "execution_count": 9,
   "metadata": {
    "collapsed": true
   },
   "outputs": [],
   "source": [
    "class generater:\n",
    "    def __init__(self, path='./data/stage1/' , sample_size = 10000):\n",
    "        self.sample_size = sample_size\n",
    "        self.saver = data_saver(path)\n",
    "    def __call__(self):\n",
    "        self.games = [game() for _ in range(self.sample_size)]\n",
    "        for simu_game in self.games:\n",
    "            while simu_game.end:\n",
    "                best_score = 0\n",
    "                best_move = []\n",
    "                legal_list = simu_game.players[simu_game.round%3].get_legal_move()\n",
    "                print(sorted(simu_game.players[simu_game.round%3].cards))\n",
    "                print(legal_list)                    \n",
    "                for move in legal_list:\n",
    "                    print(move)\n",
    "                    state = mc_state(simu_game)\n",
    "                    state(move)\n",
    "                    score = state.prob_win\n",
    "                    print(score)\n",
    "                    if score > best_score:\n",
    "                        best_score = score\n",
    "                        best_move = move\n",
    "                    self.saver(state)\n",
    "                simu_game.play_one_round(best_move)\n",
    "                print(best_move)\n",
    "            print('finish a game')\n"
   ]
  },
  {
   "cell_type": "code",
   "execution_count": 10,
   "metadata": {},
   "outputs": [
    {
     "name": "stderr",
     "output_type": "stream",
     "text": [
      "Using TensorFlow backend.\n"
     ]
    }
   ],
   "source": [
    "from keras.layers import Dense, Input, Conv2D, Dropout, Activation, Flatten, Reshape, Concatenate\n",
    "from keras.layers.normalization import BatchNormalization\n",
    "from keras.layers import MaxPooling2D\n",
    "from keras.models import Model\n"
   ]
  },
  {
   "cell_type": "code",
   "execution_count": 11,
   "metadata": {
    "collapsed": true
   },
   "outputs": [],
   "source": [
    "from keras.models import load_model"
   ]
  },
  {
   "cell_type": "code",
   "execution_count": 12,
   "metadata": {
    "collapsed": true
   },
   "outputs": [],
   "source": [
    "model = load_model('C:/Users/wangzixi/Desktop/doudizhu_model/value.h5')"
   ]
  },
  {
   "cell_type": "code",
   "execution_count": 13,
   "metadata": {
    "collapsed": true
   },
   "outputs": [],
   "source": [
    "game1 = game()"
   ]
  },
  {
   "cell_type": "code",
   "execution_count": 14,
   "metadata": {},
   "outputs": [
    {
     "name": "stdout",
     "output_type": "stream",
     "text": [
      "['3', '3', '4', '5', '5', '5', '6', '7', '8', '9', '9', '10', 'J', 'J', 'K', 'K', 'A', 'A']\n",
      "['3', '3', '5', '5', '5']\n"
     ]
    }
   ],
   "source": [
    "game1.play_one_round(verbose=1)"
   ]
  },
  {
   "cell_type": "code",
   "execution_count": 15,
   "metadata": {},
   "outputs": [
    {
     "name": "stdout",
     "output_type": "stream",
     "text": [
      "['3', '3', '4', '4', '5', '6', '7', '7', '8', '9', '10', 'J', 'J', 'Q', 'K', '2', '2', '小王']\n",
      "[]\n"
     ]
    }
   ],
   "source": [
    "game1.play_one_round(verbose=1)"
   ]
  },
  {
   "cell_type": "code",
   "execution_count": 16,
   "metadata": {},
   "outputs": [
    {
     "name": "stdout",
     "output_type": "stream",
     "text": [
      "['4', '6', '6', '7', '8', '8', '9', '10', '10', 'Q', 'Q', 'Q', 'K', 'A', 'A', '2', '2', '大王']\n",
      "['6', '6', 'Q', 'Q', 'Q']\n"
     ]
    }
   ],
   "source": [
    "game1.play_one_round(verbose=1)"
   ]
  },
  {
   "cell_type": "code",
   "execution_count": 17,
   "metadata": {},
   "outputs": [
    {
     "name": "stdout",
     "output_type": "stream",
     "text": [
      "['4', '6', '7', '8', '9', '9', '10', 'J', 'J', 'K', 'K', 'A', 'A']\n",
      "[]\n"
     ]
    }
   ],
   "source": [
    "game1.play_one_round(verbose=1)"
   ]
  },
  {
   "cell_type": "code",
   "execution_count": 18,
   "metadata": {},
   "outputs": [
    {
     "name": "stdout",
     "output_type": "stream",
     "text": [
      "['3', '3', '4', '4', '5', '6', '7', '7', '8', '9', '10', 'J', 'J', 'Q', 'K', '2', '2', '小王']\n",
      "[]\n"
     ]
    }
   ],
   "source": [
    "game1.play_one_round(verbose=1)"
   ]
  },
  {
   "cell_type": "code",
   "execution_count": 19,
   "metadata": {},
   "outputs": [
    {
     "name": "stdout",
     "output_type": "stream",
     "text": [
      "['4', '7', '8', '8', '9', '10', '10', 'K', 'A', 'A', '2', '2', '大王']\n",
      "['4']\n"
     ]
    }
   ],
   "source": [
    "game1.play_one_round(verbose=1)"
   ]
  },
  {
   "cell_type": "code",
   "execution_count": 20,
   "metadata": {},
   "outputs": [
    {
     "name": "stdout",
     "output_type": "stream",
     "text": [
      "['4', '6', '7', '8', '9', '9', '10', 'J', 'J', 'K', 'K', 'A', 'A']\n",
      "['6']\n"
     ]
    }
   ],
   "source": [
    "game1.play_one_round(verbose=1)"
   ]
  },
  {
   "cell_type": "code",
   "execution_count": 21,
   "metadata": {},
   "outputs": [
    {
     "name": "stdout",
     "output_type": "stream",
     "text": [
      "['3', '3', '4', '4', '5', '6', '7', '7', '8', '9', '10', 'J', 'J', 'Q', 'K', '2', '2', '小王']\n",
      "['7']\n"
     ]
    }
   ],
   "source": [
    "game1.play_one_round(verbose=1)"
   ]
  },
  {
   "cell_type": "code",
   "execution_count": 22,
   "metadata": {},
   "outputs": [
    {
     "name": "stdout",
     "output_type": "stream",
     "text": [
      "['7', '8', '8', '9', '10', '10', 'K', 'A', 'A', '2', '2', '大王']\n",
      "['9']\n"
     ]
    }
   ],
   "source": [
    "game1.play_one_round(verbose=1)"
   ]
  },
  {
   "cell_type": "code",
   "execution_count": 23,
   "metadata": {},
   "outputs": [
    {
     "name": "stdout",
     "output_type": "stream",
     "text": [
      "['4', '7', '8', '9', '9', '10', 'J', 'J', 'K', 'K', 'A', 'A']\n",
      "['10']\n"
     ]
    }
   ],
   "source": [
    "game1.play_one_round(verbose=1)"
   ]
  },
  {
   "cell_type": "code",
   "execution_count": 24,
   "metadata": {},
   "outputs": [
    {
     "name": "stdout",
     "output_type": "stream",
     "text": [
      "['3', '3', '4', '4', '5', '6', '7', '8', '9', '10', 'J', 'J', 'Q', 'K', '2', '2', '小王']\n",
      "['K']\n"
     ]
    }
   ],
   "source": [
    "game1.play_one_round(verbose=1)"
   ]
  },
  {
   "cell_type": "code",
   "execution_count": 25,
   "metadata": {},
   "outputs": [
    {
     "name": "stdout",
     "output_type": "stream",
     "text": [
      "['7', '8', '8', '10', '10', 'K', 'A', 'A', '2', '2', '大王']\n",
      "[]\n"
     ]
    }
   ],
   "source": [
    "game1.play_one_round(verbose=1)"
   ]
  },
  {
   "cell_type": "code",
   "execution_count": 26,
   "metadata": {},
   "outputs": [
    {
     "name": "stdout",
     "output_type": "stream",
     "text": [
      "['4', '7', '8', '9', '9', 'J', 'J', 'K', 'K', 'A', 'A']\n",
      "[]\n"
     ]
    }
   ],
   "source": [
    "game1.play_one_round(verbose=1)"
   ]
  },
  {
   "cell_type": "code",
   "execution_count": 27,
   "metadata": {},
   "outputs": [
    {
     "name": "stdout",
     "output_type": "stream",
     "text": [
      "['3', '3', '4', '4', '5', '6', '7', '8', '9', '10', 'J', 'J', 'Q', '2', '2', '小王']\n",
      "['3', '4', '5', '6', '7', '8', '9', '10', 'J', 'Q']\n"
     ]
    }
   ],
   "source": [
    "game1.play_one_round(verbose=1)"
   ]
  },
  {
   "cell_type": "code",
   "execution_count": 28,
   "metadata": {},
   "outputs": [
    {
     "name": "stdout",
     "output_type": "stream",
     "text": [
      "['7', '8', '8', '10', '10', 'K', 'A', 'A', '2', '2', '大王']\n",
      "[]\n"
     ]
    }
   ],
   "source": [
    "game1.play_one_round(verbose=1)"
   ]
  },
  {
   "cell_type": "code",
   "execution_count": 29,
   "metadata": {},
   "outputs": [
    {
     "name": "stdout",
     "output_type": "stream",
     "text": [
      "['4', '7', '8', '9', '9', 'J', 'J', 'K', 'K', 'A', 'A']\n",
      "[]\n"
     ]
    }
   ],
   "source": [
    "game1.play_one_round(verbose=1)"
   ]
  },
  {
   "cell_type": "code",
   "execution_count": 30,
   "metadata": {},
   "outputs": [
    {
     "name": "stdout",
     "output_type": "stream",
     "text": [
      "['3', '4', 'J', '2', '2', '小王']\n",
      "['4']\n"
     ]
    }
   ],
   "source": [
    "game1.play_one_round(verbose=1)"
   ]
  },
  {
   "cell_type": "code",
   "execution_count": 31,
   "metadata": {},
   "outputs": [
    {
     "name": "stdout",
     "output_type": "stream",
     "text": [
      "['7', '8', '8', '10', '10', 'K', 'A', 'A', '2', '2', '大王']\n",
      "['7']\n"
     ]
    }
   ],
   "source": [
    "game1.play_one_round(verbose=1)"
   ]
  },
  {
   "cell_type": "code",
   "execution_count": 32,
   "metadata": {},
   "outputs": [
    {
     "name": "stdout",
     "output_type": "stream",
     "text": [
      "['4', '7', '8', '9', '9', 'J', 'J', 'K', 'K', 'A', 'A']\n",
      "['8']\n"
     ]
    }
   ],
   "source": [
    "game1.play_one_round(verbose=1)"
   ]
  },
  {
   "cell_type": "code",
   "execution_count": 33,
   "metadata": {},
   "outputs": [
    {
     "name": "stdout",
     "output_type": "stream",
     "text": [
      "['3', 'J', '2', '2', '小王']\n",
      "['J']\n"
     ]
    }
   ],
   "source": [
    "game1.play_one_round(verbose=1)"
   ]
  },
  {
   "cell_type": "code",
   "execution_count": 34,
   "metadata": {},
   "outputs": [
    {
     "name": "stdout",
     "output_type": "stream",
     "text": [
      "['8', '8', '10', '10', 'K', 'A', 'A', '2', '2', '大王']\n",
      "['K']\n"
     ]
    }
   ],
   "source": [
    "game1.play_one_round(verbose=1)"
   ]
  },
  {
   "cell_type": "code",
   "execution_count": 35,
   "metadata": {},
   "outputs": [
    {
     "name": "stdout",
     "output_type": "stream",
     "text": [
      "['4', '7', '9', '9', 'J', 'J', 'K', 'K', 'A', 'A']\n",
      "['A']\n"
     ]
    }
   ],
   "source": [
    "game1.play_one_round(verbose=1)"
   ]
  },
  {
   "cell_type": "code",
   "execution_count": 36,
   "metadata": {},
   "outputs": [
    {
     "name": "stdout",
     "output_type": "stream",
     "text": [
      "['3', '2', '2', '小王']\n",
      "['2']\n"
     ]
    }
   ],
   "source": [
    "game1.play_one_round(verbose=1)"
   ]
  },
  {
   "cell_type": "code",
   "execution_count": 37,
   "metadata": {},
   "outputs": [
    {
     "name": "stdout",
     "output_type": "stream",
     "text": [
      "['8', '8', '10', '10', 'A', 'A', '2', '2', '大王']\n",
      "[]\n"
     ]
    }
   ],
   "source": [
    "game1.play_one_round(verbose=1)"
   ]
  },
  {
   "cell_type": "code",
   "execution_count": 38,
   "metadata": {},
   "outputs": [
    {
     "name": "stdout",
     "output_type": "stream",
     "text": [
      "['4', '7', '9', '9', 'J', 'J', 'K', 'K', 'A']\n",
      "[]\n"
     ]
    }
   ],
   "source": [
    "game1.play_one_round(verbose=1)"
   ]
  },
  {
   "cell_type": "code",
   "execution_count": 39,
   "metadata": {},
   "outputs": [
    {
     "name": "stdout",
     "output_type": "stream",
     "text": [
      "['3', '2', '小王']\n",
      "['3']\n"
     ]
    }
   ],
   "source": [
    "game1.play_one_round(verbose=1)"
   ]
  },
  {
   "cell_type": "code",
   "execution_count": 40,
   "metadata": {},
   "outputs": [
    {
     "name": "stdout",
     "output_type": "stream",
     "text": [
      "['8', '8', '10', '10', 'A', 'A', '2', '2', '大王']\n",
      "['8']\n"
     ]
    }
   ],
   "source": [
    "game1.play_one_round(verbose=1)"
   ]
  },
  {
   "cell_type": "code",
   "execution_count": 41,
   "metadata": {},
   "outputs": [
    {
     "name": "stdout",
     "output_type": "stream",
     "text": [
      "['4', '7', '9', '9', 'J', 'J', 'K', 'K', 'A']\n",
      "['J']\n"
     ]
    }
   ],
   "source": [
    "game1.play_one_round(verbose=1)"
   ]
  },
  {
   "cell_type": "code",
   "execution_count": 42,
   "metadata": {},
   "outputs": [
    {
     "name": "stdout",
     "output_type": "stream",
     "text": [
      "['2', '小王']\n",
      "[]\n"
     ]
    }
   ],
   "source": [
    "game1.play_one_round(verbose=1)"
   ]
  },
  {
   "cell_type": "code",
   "execution_count": 43,
   "metadata": {},
   "outputs": [
    {
     "name": "stdout",
     "output_type": "stream",
     "text": [
      "['8', '10', '10', 'A', 'A', '2', '2', '大王']\n",
      "['A']\n"
     ]
    }
   ],
   "source": [
    "game1.play_one_round(verbose=1)"
   ]
  },
  {
   "cell_type": "code",
   "execution_count": 44,
   "metadata": {},
   "outputs": [
    {
     "name": "stdout",
     "output_type": "stream",
     "text": [
      "['4', '7', '9', '9', 'J', 'K', 'K', 'A']\n",
      "[]\n"
     ]
    }
   ],
   "source": [
    "game1.play_one_round(verbose=1)"
   ]
  },
  {
   "cell_type": "code",
   "execution_count": 45,
   "metadata": {},
   "outputs": [
    {
     "name": "stdout",
     "output_type": "stream",
     "text": [
      "['2', '小王']\n",
      "[]\n"
     ]
    }
   ],
   "source": [
    "game1.play_one_round(verbose=1)"
   ]
  },
  {
   "cell_type": "code",
   "execution_count": 46,
   "metadata": {},
   "outputs": [
    {
     "name": "stdout",
     "output_type": "stream",
     "text": [
      "['8', '10', '10', 'A', '2', '2', '大王']\n",
      "['10', '10']\n"
     ]
    }
   ],
   "source": [
    "game1.play_one_round(verbose=1)"
   ]
  },
  {
   "cell_type": "code",
   "execution_count": 47,
   "metadata": {},
   "outputs": [
    {
     "name": "stdout",
     "output_type": "stream",
     "text": [
      "['4', '7', '9', '9', 'J', 'K', 'K', 'A']\n",
      "['K', 'K']\n"
     ]
    }
   ],
   "source": [
    "game1.play_one_round(verbose=1)"
   ]
  },
  {
   "cell_type": "code",
   "execution_count": 48,
   "metadata": {},
   "outputs": [
    {
     "name": "stdout",
     "output_type": "stream",
     "text": [
      "['2', '小王']\n",
      "[]\n"
     ]
    }
   ],
   "source": [
    "game1.play_one_round(verbose=1)"
   ]
  },
  {
   "cell_type": "code",
   "execution_count": 49,
   "metadata": {},
   "outputs": [
    {
     "name": "stdout",
     "output_type": "stream",
     "text": [
      "['8', 'A', '2', '2', '大王']\n",
      "['2', '2']\n"
     ]
    }
   ],
   "source": [
    "game1.play_one_round(verbose=1)"
   ]
  },
  {
   "cell_type": "code",
   "execution_count": 50,
   "metadata": {},
   "outputs": [
    {
     "name": "stdout",
     "output_type": "stream",
     "text": [
      "['4', '7', '9', '9', 'J', 'A']\n",
      "[]\n"
     ]
    }
   ],
   "source": [
    "game1.play_one_round(verbose=1)"
   ]
  },
  {
   "cell_type": "code",
   "execution_count": 51,
   "metadata": {},
   "outputs": [
    {
     "name": "stdout",
     "output_type": "stream",
     "text": [
      "['2', '小王']\n",
      "[]\n"
     ]
    }
   ],
   "source": [
    "game1.play_one_round(verbose=1)"
   ]
  },
  {
   "cell_type": "code",
   "execution_count": null,
   "metadata": {
    "collapsed": true
   },
   "outputs": [],
   "source": []
  },
  {
   "cell_type": "code",
   "execution_count": null,
   "metadata": {
    "collapsed": true
   },
   "outputs": [],
   "source": []
  }
 ],
 "metadata": {
  "kernelspec": {
   "display_name": "Python 3",
   "language": "python",
   "name": "python3"
  },
  "language_info": {
   "codemirror_mode": {
    "name": "ipython",
    "version": 3
   },
   "file_extension": ".py",
   "mimetype": "text/x-python",
   "name": "python",
   "nbconvert_exporter": "python",
   "pygments_lexer": "ipython3",
   "version": "3.6.3"
  }
 },
 "nbformat": 4,
 "nbformat_minor": 2
}
